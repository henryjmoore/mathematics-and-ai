{
  "nbformat": 4,
  "nbformat_minor": 0,
  "metadata": {
    "colab": {
      "provenance": [],
      "authorship_tag": "ABX9TyNXALcUoXurmVBUwSjVuVYO",
      "include_colab_link": true
    },
    "kernelspec": {
      "name": "python3",
      "display_name": "Python 3"
    },
    "language_info": {
      "name": "python"
    }
  },
  "cells": [
    {
      "cell_type": "markdown",
      "metadata": {
        "id": "view-in-github",
        "colab_type": "text"
      },
      "source": [
        "<a href=\"https://colab.research.google.com/github/henryjmoore/mathematics-and-ai/blob/main/TicTacToe.ipynb\" target=\"_parent\"><img src=\"https://colab.research.google.com/assets/colab-badge.svg\" alt=\"Open In Colab\"/></a>"
      ]
    },
    {
      "cell_type": "code",
      "execution_count": null,
      "metadata": {
        "colab": {
          "base_uri": "https://localhost:8080/"
        },
        "id": "F_pm1wOhjcS-",
        "outputId": "2af44a85-538f-4c9b-c8a5-cae597772276"
      },
      "outputs": [
        {
          "output_type": "stream",
          "name": "stdout",
          "text": [
            "Welcome to Tic Tac Toe!\n"
          ]
        }
      ],
      "source": [
        "#Author: Henry Moore\n",
        "#Date: June 28, 2024\n",
        "#Assignment: Math 76 Homework 1, Tic-Tac-Toe Bot\n",
        "#Credit: Framework by Dr. Alice Schwarze\n",
        "\n",
        "import random\n",
        "import copy\n",
        "\n",
        "def print_board(board):\n",
        "    for row in board:\n",
        "        print(\" | \".join(row))\n",
        "        print(\"-\" * 10)\n",
        "        print(' ')\n",
        "\n",
        "def check_winner(board, mark):\n",
        "    win_conditions = [\n",
        "        [board[0][0], board[0][1], board[0][2]],\n",
        "        [board[1][0], board[1][1], board[1][2]],\n",
        "        [board[2][0], board[2][1], board[2][2]],\n",
        "        [board[0][0], board[1][0], board[2][0]],\n",
        "        [board[0][1], board[1][1], board[2][1]],\n",
        "        [board[0][2], board[1][2], board[2][2]],\n",
        "        [board[0][0], board[1][1], board[2][2]],\n",
        "        [board[2][0], board[1][1], board[0][2]],\n",
        "    ]\n",
        "    return [mark, mark, mark] in win_conditions\n",
        "\n",
        "def get_empty_positions(board):\n",
        "    positions = []\n",
        "    for i in range(3):\n",
        "        for j in range(3):\n",
        "            if board[i][j] == \" \":\n",
        "                positions.append((i, j))\n",
        "    return positions\n",
        "\n",
        "def user_move(board):\n",
        "    while True:\n",
        "        try:\n",
        "            row = int(input(\"Enter the row (1-3): \")) - 1\n",
        "            col = int(input(\"Enter the column (1-3): \")) - 1\n",
        "            if board[row][col] == \" \":\n",
        "                board[row][col] = \"X\"\n",
        "                break\n",
        "            else:\n",
        "                print(\"This position is already taken.\")\n",
        "        except (ValueError, IndexError):\n",
        "            print(\"Invalid input. Please enter numbers between 1 and 3.\")\n",
        "\n",
        "def computer_move(board):\n",
        "    empty_positions = get_empty_positions(board)\n",
        "    max = -1000\n",
        "    best = random.choice(empty_positions)\n",
        "    for position in empty_positions:\n",
        "      tempboard = copy.deepcopy(board)\n",
        "      tempboard[position[0]][position[1]] = \"O\"\n",
        "      temp = permutation(tempboard, \"X\")\n",
        "      if temp > max:\n",
        "        max = temp\n",
        "        best = (position[0],position[1])\n",
        "    board[best[0]][best[1]] = \"O\"\n",
        "    return\n",
        "\n",
        "\n",
        "def permutation(board, mark):\n",
        "    empty_positions = get_empty_positions(board)\n",
        "    if check_winner(board, \"O\"):\n",
        "      return 1\n",
        "    if check_winner(board, \"X\"):\n",
        "      return -1\n",
        "    if not empty_positions:\n",
        "      return 0\n",
        "    total = 0\n",
        "    for position in empty_positions:\n",
        "      tempboard = copy.deepcopy(board)\n",
        "      tempboard[position[0]][position[1]] = mark\n",
        "      if mark == \"O\":\n",
        "        total = total + permutation(tempboard, \"X\")\n",
        "      if mark == \"X\":\n",
        "        total = total + permutation(tempboard, \"O\")\n",
        "    return total\n",
        "\n",
        "def tic_tac_toe():\n",
        "    board = [[\" \" for _ in range(3)] for _ in range(3)]\n",
        "    print(\"Welcome to Tic Tac Toe!\")\n",
        "    user_first = input(\"Do you want to go first? (y/n): \").lower() == 'y'\n",
        "\n",
        "    for _ in range(9):\n",
        "        print_board(board)\n",
        "        if user_first:\n",
        "            user_move(board)\n",
        "            if check_winner(board, \"X\"):\n",
        "                print_board(board)\n",
        "                print(\"Congratulations! You win!\")\n",
        "                return\n",
        "            user_first = False\n",
        "        else:\n",
        "            computer_move(board)\n",
        "            if check_winner(board, \"O\"):\n",
        "                print_board(board)\n",
        "                print(\"Computer wins! Better luck next time.\")\n",
        "                return\n",
        "            user_first = True\n",
        "\n",
        "        if not get_empty_positions(board):\n",
        "            print_board(board)\n",
        "            print(\"It's a draw!\")\n",
        "            return\n",
        "\n",
        "if __name__ == \"__main__\":\n",
        "    tic_tac_toe()"
      ]
    },
    {
      "cell_type": "code",
      "source": [],
      "metadata": {
        "id": "GoURRzg72hGq"
      },
      "execution_count": null,
      "outputs": []
    }
  ]
}